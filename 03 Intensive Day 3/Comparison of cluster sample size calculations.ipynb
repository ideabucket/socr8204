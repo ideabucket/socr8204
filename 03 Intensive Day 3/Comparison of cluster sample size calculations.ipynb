{
 "cells": [
  {
   "cell_type": "markdown",
   "id": "aee02624-84cb-4db7-b61f-21b5fe2b64d0",
   "metadata": {},
   "source": [
    "For a control group with $\\bar{x} = 1000, \\sigma = 100$:\n",
    "\n",
    "[Clincalc][1] values:\n",
    "\n",
    "| Mean (Treatment) | Enrollment ratio | $N$ (Control) | $N$ (Treatment) |\n",
    "|:----------------:|:----------------:|:-----------:|:-------------:|\n",
    "| 1025             | 1                | 251         | 251           |\n",
    "| 1050             | 1                | 63          | 63            |\n",
    "| 1100             | 1                | 16          | 16            |\n",
    "| 1200             | 1                | 4           | 4             |\n",
    "\n",
    "[1]: https://clincalc.com/stats/samplesize.aspx"
   ]
  },
  {
   "cell_type": "code",
   "execution_count": 23,
   "id": "d1742a95-6b47-49dc-8f8a-96804c7a98b6",
   "metadata": {},
   "outputs": [
    {
     "name": "stdout",
     "output_type": "stream",
     "text": [
      "\n",
      ". foreach x in 25 50 100 200 { \n",
      "  2.     quietly power twomeans 1000, knownsd sd(100) diff(`x')\n",
      "  3.     display \"power: For treatment group mean of \" 1000+`x' \",\" ///\n",
      ">         \"{tab}control: \" r(N1) \"{tab}treatment: \" r(N2)\n",
      "  4. }\n",
      "power: For treatment group mean of 1025,        control: 252    treatment: 252\n",
      "power: For treatment group mean of 1050,        control: 63     treatment: 63\n",
      "power: For treatment group mean of 1100,        control: 16     treatment: 16\n",
      "power: For treatment group mean of 1200,        control: 4      treatment: 4\n",
      "\n",
      ". \n"
     ]
    }
   ],
   "source": [
    "foreach x in 25 50 100 200 { \n",
    "    quietly power twomeans 1000, knownsd sd(100) diff(`x')\n",
    "    display \"power: For treatment group mean of \" 1000+`x' \",\" ///\n",
    "        \"{tab}control: \" r(N1) \"{tab}treatment: \" r(N2)\n",
    "}"
   ]
  },
  {
   "cell_type": "code",
   "execution_count": 24,
   "id": "c722d8bc-083a-4069-b88a-24b23c8ed640",
   "metadata": {},
   "outputs": [
    {
     "name": "stdout",
     "output_type": "stream",
     "text": [
      "\n",
      ". foreach x in 1025 1050 1100 1200 { \n",
      "  2.     quietly sampsi 1000 `x', sd(100) power(0.8)\n",
      "  3.     display \"sampsi: For treatment group mean of \" `x' \", \" ///\n",
      ">         \"{tab}control: \" r(N_1) \"{tab}treatment: \" r(N_2)\n",
      "  4. }\n",
      "sampsi: For treatment group mean of 1025,       control: 252    treatment: 252\n",
      "sampsi: For treatment group mean of 1050,       control: 63     treatment: 63\n",
      "sampsi: For treatment group mean of 1100,       control: 16     treatment: 16\n",
      "sampsi: For treatment group mean of 1200,       control: 4      treatment: 4\n",
      "\n",
      ". \n"
     ]
    }
   ],
   "source": [
    "foreach x in 1025 1050 1100 1200 { \n",
    "    quietly sampsi 1000 `x', sd(100) power(0.8)\n",
    "    display \"sampsi: For treatment group mean of \" `x' \", \" ///\n",
    "        \"{tab}control: \" r(N_1) \"{tab}treatment: \" r(N_2)\n",
    "}"
   ]
  },
  {
   "cell_type": "markdown",
   "id": "7fb7606f-0e64-49b8-bf85-7efb7b22972a",
   "metadata": {},
   "source": [
    "## Cluster sample size calculations"
   ]
  },
  {
   "cell_type": "code",
   "execution_count": 41,
   "id": "6585982b-c187-439b-941c-0cfe8ec1ccff",
   "metadata": {},
   "outputs": [
    {
     "name": "stdout",
     "output_type": "stream",
     "text": [
      "\n",
      ". net install sxd4, from(\"http://www.stata.com/stb/stb60\") replace\n",
      "checking sxd4 consistency and verifying not already installed...\n",
      "all files already exist and are up to date.\n",
      "\n",
      ". \n",
      ". sampsi 0.5 0.55, power(0.8)\n",
      "\n",
      "Estimated sample size for two-sample comparison of proportions\n",
      "\n",
      "Test H0: p1 = p2, where p1 is the proportion in population 1\n",
      "                    and p2 is the proportion in population 2\n",
      "Assumptions:\n",
      "\n",
      "         alpha =   0.0500  (two-sided)\n",
      "         power =   0.8000\n",
      "            p1 =   0.5000\n",
      "            p2 =   0.5500\n",
      "         n2/n1 =   1.00\n",
      "\n",
      "Estimated required sample sizes:\n",
      "\n",
      "            n1 =     1605\n",
      "            n2 =     1605\n",
      "\n",
      ". sampclus, obsclus(60) rho(0.2)\n",
      "\n",
      "Sample Size Adjusted for Cluster Design\n",
      "\n",
      "   n1 (uncorrected) = 1605\n",
      "   n2 (uncorrected) = 1605\n",
      "\n",
      "   Intraclass correlation     = .2\n",
      "\n",
      "   Average obs. per cluster   = 60\n",
      "   Minimum number of clusters = 685\n",
      "\n",
      "\n",
      "   Estimated sample size per group:\n",
      "\n",
      "      n1 (corrected) = 20544\n",
      "      n2 (corrected) = 20544\n",
      "\n",
      ". \n"
     ]
    }
   ],
   "source": [
    "net install sxd4, from(\"http://www.stata.com/stb/stb60\") replace\n",
    "\n",
    "sampsi 0.5 0.55, power(0.8)\n",
    "sampclus, obsclus(60) rho(0.2)"
   ]
  },
  {
   "cell_type": "code",
   "execution_count": 38,
   "id": "9ec65554-94ea-4aef-acf2-b9252a2cfd6e",
   "metadata": {},
   "outputs": [
    {
     "name": "stdout",
     "output_type": "stream",
     "text": [
      "\n",
      ". power twoproportions 0.5, power(0.8) diff(0.05)\n",
      "\n",
      "Performing iteration ...\n",
      "\n",
      "Estimated sample sizes for a two-sample proportions test\n",
      "Pearson's chi-squared test \n",
      "H0: p2 = p1  versus  Ha: p2 != p1\n",
      "\n",
      "Study parameters:\n",
      "\n",
      "        alpha =    0.0500\n",
      "        power =    0.8000\n",
      "        delta =    0.0500  (difference)\n",
      "           p1 =    0.5000\n",
      "           p2 =    0.5500\n",
      "         diff =    0.0500\n",
      "\n",
      "Estimated sample sizes:\n",
      "\n",
      "            N =     3,130\n",
      "  N per group =     1,565\n",
      "\n",
      ". power twoproportions 0.5, power(0.8) diff(0.05) cluster rho(0.2) m1(60)\n",
      "\n",
      "Performing iteration ...\n",
      "\n",
      "Estimated numbers of clusters for a two-sample proportions test\n",
      "Cluster randomized design, Pearson's chi-squared test \n",
      "H0: p2 = p1  versus  Ha: p2 != p1\n",
      "\n",
      "Study parameters:\n",
      "\n",
      "        alpha =    0.0500\n",
      "        power =    0.8000\n",
      "        delta =    0.0500  (difference)\n",
      "           p1 =    0.5000\n",
      "           p2 =    0.5500\n",
      "         diff =    0.0500\n",
      "\n",
      "Cluster design:\n",
      "\n",
      "           M1 =        60\n",
      "           M2 =        60\n",
      "          rho =    0.2000\n",
      "\n",
      "Estimated numbers of clusters and sample sizes:\n",
      "\n",
      "           K1 =       334\n",
      "           K2 =       334\n",
      "           N1 =    20,040\n",
      "           N2 =    20,040\n",
      "\n",
      ". \n"
     ]
    }
   ],
   "source": [
    "power twoproportions 0.5, power(0.8) diff(0.05)\n",
    "power twoproportions 0.5, power(0.8) diff(0.05) cluster rho(0.2) m1(60)"
   ]
  },
  {
   "cell_type": "code",
   "execution_count": 31,
   "id": "f6b7655d-371e-4662-9b14-bec7289e0615",
   "metadata": {},
   "outputs": [
    {
     "name": "stdout",
     "output_type": "stream",
     "text": [
      "\n",
      "-------------------------------------------------------------------------------\n",
      "help for sampclus                                                (STB-60: sxd4)\n",
      "-------------------------------------------------------------------------------\n",
      "\n",
      "Sample Size for Studies with Cluster Sampling\n",
      "---------------------------------------------\n",
      "\n",
      "   sampclus [, obsclus(#) numclus(#) rho(#)]\n",
      "\n",
      "\n",
      "Description\n",
      "-----------\n",
      "\n",
      "sampclus calculates sample size and number of clusters for cluster sampled\n",
      "studies, correcting for any intraclass correlation. sampclus uses the\n",
      "estimates from sampsi, which must precede it.\n",
      "\n",
      "\n",
      "Options (Note: must choose either obsclus or numclus, but not both)\n",
      "-------\n",
      "\n",
      "obsclus(#) -- number of observations in each cluster; will return \n",
      "    corrected sample sizes and minimum number of clusters needed\n",
      "\n",
      "    Example: obsclus(10) -- 10 patients per physician; sampclus \n",
      "                            determines number of physicians needed\n",
      "\n",
      "numclus(#) -- maximum number of clusters; will return corrected sample\n",
      "    sizes and number of observations in each cluster. Number of obs.\n",
      "    per cluster are rounded up so that the number of clusters will\n",
      "    never exceed numclus, but may be fewer. If too few clusters are\n",
      "    requested for the other given parameters, sampclus will prompt\n",
      "    for the minimum number of clusters possible.\n",
      "\n",
      "    Example:  numclus(40) -- 40 physicians chosen; sampclus determines\n",
      "                             number of patients per physician\n",
      "\n",
      "rho(#) -- intraclass correlation coefficient (default=0)\n",
      "      \n",
      "\n",
      "Examples\n",
      "--------\n",
      "\n",
      " . sampsi 200 185, alpha(.01) power(.8) sd(30)\n",
      " . sampclus, obsclus(10) rho(.2)\n",
      " . sampclus, obsclus(10) rho(.1)\n",
      "\n",
      "   Corrects sample size and computes number of clusters from a t-test; adjusts\n",
      "   this sample size calculation for 10 observations per cluster and an\n",
      "   intraclass correlation of 0.2; repeats for an intraclass correlation of 0.1.\n",
      "\n",
      " . sampsi .20 .30, power(.8) onesided\n",
      " . sampclus, numclus(40) rho(.05)\n",
      " \n",
      "   Calculates sample size and number of observations per cluster using the\n",
      "   difference of two proportions; assumes the number of clusters is 40, and an\n",
      "   intraclass correlation of 0.05.\n",
      "\n",
      "\n",
      "Author\n",
      "------\n",
      "\n",
      "Joanne M Garrett, University of North Carolina\n",
      "joanne_garrett@med.unc.edu\n",
      ". "
     ]
    }
   ],
   "source": [
    "help sampclus"
   ]
  },
  {
   "cell_type": "code",
   "execution_count": null,
   "id": "8155cedc-b4f4-4d8c-98bd-12fd4771cf8a",
   "metadata": {},
   "outputs": [],
   "source": []
  }
 ],
 "metadata": {
  "kernelspec": {
   "display_name": "Stata",
   "language": "stata",
   "name": "pystata"
  },
  "language_info": {
   "codemirror_mode": "stata",
   "file_extension": ".do",
   "mimetype": "text/x-stata",
   "name": "stata"
  }
 },
 "nbformat": 4,
 "nbformat_minor": 5
}
