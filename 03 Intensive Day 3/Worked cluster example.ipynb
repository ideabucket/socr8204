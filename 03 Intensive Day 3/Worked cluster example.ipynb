{
 "cells": [
  {
   "cell_type": "markdown",
   "id": "66c6be45-96ed-40f8-8fe1-cc21ba69fd4a",
   "metadata": {},
   "source": [
    "## Analysis of a cluster-randomised trial in education \n",
    "by Martin Bland\n",
    "\n",
    "_Copied from https://www-users.york.ac.uk/~mb55/clust/incent.htm with the sample Stata output replaced by live code._\n",
    "\n",
    "This is an expanded version of a talk given to the Workshop on Cluster Randomised Trials at the First Conference on Randomised Controlled Trials in the Social Sciences, University of York, September 2006. "
   ]
  },
  {
   "cell_type": "markdown",
   "id": "21f0a89a-46e5-48a8-950f-df83f3d4d734",
   "metadata": {
    "tags": []
   },
   "source": [
    "##  Introduction\n",
    "\n",
    "This is a comparison of several analyses of a cluster randomised trial in education. The data come from a trial of incentives to attend adult literacy classes, carried out by Greg Brooks, Carole Torgerson, Jeremy Miles, and David Torgerson.\n",
    "\n",
    "There are two groups of 14 classes. The groups are labeled “X” and “Y” in this data set, which was blinded for analysis.\n",
    "\n",
    "- Group X: 77 students\n",
    "- Group Y: 86 students\n",
    "\n",
    "The number of learners varied considerably between classes: \n",
    "\n",
    "![](https://www-users.york.ac.uk/~mb55/clust/incent004.gif)\n",
    "\n",
    "The outcome variable is the number of sessions attended following randomisation. This has a distribution which has a spike at zero, where there were several students who did not attend again after randomisation, and otherwise is slightly skew to the right: \n",
    " \n",
    "![](https://www-users.york.ac.uk/~mb55/clust/incent002.gif)\n",
    "\n",
    "For this analysis, we shall treat this as suitable for Normal theory analyses.\n",
    "\n",
    "In this trial, literacy classes were randomised to incentive or no incentive. This was done after the class had begun, so there are no true baseline data, but we do have a literacy score at randomisaton, which may also be a predictor of sessions attended. \n",
    "\n",
    "![](https://www-users.york.ac.uk/~mb55/clust/incent006.gif)\n",
    "\n",
    "The analysis below is presented in Stata, but could be done using a variety of software. "
   ]
  },
  {
   "cell_type": "markdown",
   "id": "cad249a9-ef3a-446e-9ae9-df39bcc0318b",
   "metadata": {},
   "source": [
    "## The sample data\n",
    "\n",
    "The key variables used in the analysis are available for download in several different formats:\n",
    "\n",
    "- [Stata format](https://www-users.york.ac.uk/~mb55/clust/incent2.dta)\n",
    "- [SPSS format](https://www-users.york.ac.uk/~mb55/clust/incent2.sav)\n",
    "- [Excel format](https://www-users.york.ac.uk/~mb55/clust/incent2.xls)\n",
    "- [Text file](https://www-users.york.ac.uk/~mb55/clust/incent2.txt)\n",
    "\n",
    "Variables are:\n",
    "\n",
    "- group,\n",
    "- midscore (scaled),\n",
    "- sessions attended,\n",
    "- learner code,\n",
    "- class code. \n",
    "\n",
    "Group is coded X = `1`, Y = `2`. Missing data are coded \"`.`\". "
   ]
  },
  {
   "cell_type": "code",
   "execution_count": 1,
   "id": "3a94a048-5ced-40ff-a629-0b93b95964cf",
   "metadata": {},
   "outputs": [],
   "source": [
    "use \"https://www-users.york.ac.uk/~mb55/clust/incent2.dta\""
   ]
  },
  {
   "cell_type": "markdown",
   "id": "5f89a012-48c6-4b4d-9e79-bcf2eba4de48",
   "metadata": {},
   "source": [
    "## Analysis ignoring clustering\n",
    "\n",
    "First, we could compare the mean number of sessions ignoring the clustering, using the two-sample $t$ method: "
   ]
  },
  {
   "cell_type": "code",
   "execution_count": 2,
   "id": "6f9f02c0-ced0-4dbf-8ac1-cf6a9dc39bde",
   "metadata": {},
   "outputs": [
    {
     "name": "stdout",
     "output_type": "stream",
     "text": [
      "\n",
      "Two-sample t test with equal variances\n",
      "------------------------------------------------------------------------------\n",
      "   Group |     Obs        Mean    Std. err.   Std. dev.   [95% conf. interval]\n",
      "---------+--------------------------------------------------------------------\n",
      " Group X |      70    6.685714    .4177941    3.495516    5.852238    7.519191\n",
      " Group Y |      82    5.280488    .2991881    2.709263    4.685197    5.875778\n",
      "---------+--------------------------------------------------------------------\n",
      "Combined |     152    5.927632    .2566817    3.164585     5.42048    6.434783\n",
      "---------+--------------------------------------------------------------------\n",
      "    diff |            1.405226    .5037841                .4097968    2.400656\n",
      "------------------------------------------------------------------------------\n",
      "    diff = mean(Group X) - mean(Group Y)                          t =   2.7893\n",
      "H0: diff = 0                                     Degrees of freedom =      150\n",
      "\n",
      "    Ha: diff < 0                 Ha: diff != 0                 Ha: diff > 0\n",
      " Pr(T < t) = 0.9970         Pr(|T| > |t|) = 0.0060          Pr(T > t) = 0.0030\n"
     ]
    }
   ],
   "source": [
    "ttest sessions, by(group)"
   ]
  },
  {
   "cell_type": "markdown",
   "id": "22b47b83-f130-43b0-a430-85d40ff76d8e",
   "metadata": {},
   "source": [
    "This give us $P = 0.006$ — a highly significant difference! But it is wrong — it ignores the clustering! "
   ]
  },
  {
   "cell_type": "markdown",
   "id": "c185d3ca-a0c0-4ba5-bc60-f06df0f288c6",
   "metadata": {},
   "source": [
    "## Analysis using summary statistics \n",
    "\n",
    "Whole classes were allocated to groups, so to be valid the analysis must take this into account. We could carry out an analysis using the class as the unit of analysis and the mean number of sessions for the pupils in the class as the outcome variable. This is the simplest valid analysis.\n",
    "\n",
    "In Stata we create these means by the \"`collapse`\" command: collapse (mean) sessions group midscl (count) n=sessions, by(class)"
   ]
  },
  {
   "cell_type": "code",
   "execution_count": 3,
   "id": "10b88b25-c917-43a6-8068-d0be19478b64",
   "metadata": {},
   "outputs": [
    {
     "name": "stdout",
     "output_type": "stream",
     "text": [
      "\n",
      ". frame copy default fr_collapsed, replace\n",
      "(note: frame fr_collapsed not found)\n",
      "\n",
      ". cwf fr_collapsed\n",
      "\n",
      ". \n",
      ". collapse (mean) sessions group midscl (count) n=sessions, by(class)\n",
      "\n",
      ". \n"
     ]
    }
   ],
   "source": [
    "frame copy default fr_collapsed, replace\n",
    "cwf fr_collapsed\n",
    "\n",
    "collapse (mean) sessions group midscl (count) n=sessions, by(class)"
   ]
  },
  {
   "cell_type": "markdown",
   "id": "484f9989-27ce-4e47-8ea1-16e60bd9014f",
   "metadata": {},
   "source": [
    "This gives the following variables:\n",
    "\n",
    "- `class`, the code for the class,\n",
    "- `sessions`, the mean number of sessions for the class,\n",
    "- `group`, the code for the group,\n",
    "- `midscl`, the scaled literacy score at randomisation,\n",
    "- `n`, the number of learners in the class for whom we have data on sessions attended. (Note that the command \"`(count) n=sessions`\" gives n as a count of the number of learners for whom sessions is not a missing value.) "
   ]
  },
  {
   "cell_type": "code",
   "execution_count": 5,
   "id": "77c7e9dc-e060-4915-84ff-f08a9766d7aa",
   "metadata": {
    "collapsed": true,
    "jupyter": {
     "outputs_hidden": true
    },
    "tags": []
   },
   "outputs": [
    {
     "name": "stdout",
     "output_type": "stream",
     "text": [
      "\n",
      ". label variable class \"code for the class\"\n",
      "\n",
      ". label variable sessions \"mean number of sessions for the class\"\n",
      "\n",
      ". label variable group \"code for the group\"\n",
      "\n",
      ". label variable midscl \"scaled literacy score at randomisation\"\n",
      "\n",
      ". label variable n \"number of learners in the class for whom we have data on se\n",
      "> ssions attended\"\n",
      "\n",
      ". \n"
     ]
    }
   ],
   "source": [
    "label variable class \"code for the class\"\n",
    "label variable sessions \"mean number of sessions for the class\"\n",
    "label variable group \"code for the group\"\n",
    "label variable midscl \"scaled literacy score at randomisation\"\n",
    "label variable n \"number of learners in the class for whom we have data on sessions attended\""
   ]
  },
  {
   "cell_type": "markdown",
   "id": "1213ffc2-d0fc-43f4-87ed-7b5f59037032",
   "metadata": {},
   "source": [
    "The analysis is: "
   ]
  },
  {
   "cell_type": "code",
   "execution_count": 6,
   "id": "a3747b7d-bcda-41e6-8e5d-2bd0f33aff05",
   "metadata": {},
   "outputs": [
    {
     "name": "stdout",
     "output_type": "stream",
     "text": [
      "\n",
      "Two-sample t test with equal variances\n",
      "------------------------------------------------------------------------------\n",
      "   Group |     Obs        Mean    Std. err.   Std. dev.   [95% conf. interval]\n",
      "---------+--------------------------------------------------------------------\n",
      "       1 |      14     6.69932    .7457716    2.790422    5.088178    8.310461\n",
      "       2 |      14    5.189229    .3974616    1.487165    4.330565    6.047893\n",
      "---------+--------------------------------------------------------------------\n",
      "Combined |      28    5.944274     .439363     2.32489    5.042776    6.845773\n",
      "---------+--------------------------------------------------------------------\n",
      "    diff |            1.510091    .8450746                -.226985    3.247166\n",
      "------------------------------------------------------------------------------\n",
      "    diff = mean(1) - mean(2)                                      t =   1.7869\n",
      "H0: diff = 0                                     Degrees of freedom =       26\n",
      "\n",
      "    Ha: diff < 0                 Ha: diff != 0                 Ha: diff > 0\n",
      " Pr(T < t) = 0.9572         Pr(|T| > |t|) = 0.0856          Pr(T > t) = 0.0428\n"
     ]
    }
   ],
   "source": [
    "ttest sessions, by(group)"
   ]
  },
  {
   "cell_type": "markdown",
   "id": "a40d2714-9793-4244-ae91-f420b1943620",
   "metadata": {},
   "source": [
    "$P = 0.0856$ — not significant. This is almost valid — it takes the data structure into account. However, the classes are of different sizes and this analysis gives them all equal weight. We should also take into account the variation in class size.\n",
    "\n",
    "In Stata, we cannot weight the \"`ttest`\" command, but must use the regression command instead. If we do regression on the indicator variable for group, this gives exactly the results as the two sample $t$ test: "
   ]
  },
  {
   "cell_type": "code",
   "execution_count": 7,
   "id": "c084e378-06a3-47c6-9cd3-b88d406e37a1",
   "metadata": {},
   "outputs": [
    {
     "name": "stdout",
     "output_type": "stream",
     "text": [
      "\n",
      "      Source |       SS           df       MS      Number of obs   =        28\n",
      "-------------+----------------------------------   F(1, 26)        =      3.19\n",
      "       Model |  15.9626158         1  15.9626158   Prob > F        =    0.0856\n",
      "    Residual |  129.975482        26    4.999057   R-squared       =    0.1094\n",
      "-------------+----------------------------------   Adj R-squared   =    0.0751\n",
      "       Total |  145.938098        27  5.40511474   Root MSE        =    2.2359\n",
      "\n",
      "------------------------------------------------------------------------------\n",
      "    sessions | Coefficient  Std. err.      t    P>|t|     [95% conf. interval]\n",
      "-------------+----------------------------------------------------------------\n",
      "       group |  -1.510091   .8450746    -1.79   0.086    -3.247166     .226985\n",
      "       _cons |    8.20941    1.33618     6.14   0.000     5.462853    10.95597\n",
      "------------------------------------------------------------------------------\n"
     ]
    }
   ],
   "source": [
    "regress sessions group"
   ]
  },
  {
   "cell_type": "markdown",
   "id": "4ea74f5a-0690-4ed0-9544-185371f8a796",
   "metadata": {},
   "source": [
    "The group coefficient is the same as the difference between group means (except for the change in sign) and the P value is the same, $P = 0.086$. regress session group  [aweight=n].\n",
    "\n",
    "We can compare the mean number of sessions per class by the regression method, weighted by class size: "
   ]
  },
  {
   "cell_type": "code",
   "execution_count": 8,
   "id": "4659a16a-d70a-4b7f-bce7-263aeab64fc2",
   "metadata": {},
   "outputs": [
    {
     "name": "stdout",
     "output_type": "stream",
     "text": [
      "(sum of wgt is 152)\n",
      "\n",
      "      Source |       SS           df       MS      Number of obs   =        28\n",
      "-------------+----------------------------------   F(1, 26)        =      2.90\n",
      "       Model |  13.7364762         1  13.7364762   Prob > F        =    0.1006\n",
      "    Residual |  123.192613        26  4.73817742   R-squared       =    0.1003\n",
      "-------------+----------------------------------   Adj R-squared   =    0.0657\n",
      "       Total |  136.929089        27  5.07144775   Root MSE        =    2.1767\n",
      "\n",
      "------------------------------------------------------------------------------\n",
      "    sessions | Coefficient  Std. err.      t    P>|t|     [95% conf. interval]\n",
      "-------------+----------------------------------------------------------------\n",
      "       group |  -1.405226   .8253046    -1.70   0.101    -3.101664    .2912116\n",
      "       _cons |   8.090941    1.33547     6.06   0.000     5.345843    10.83604\n",
      "------------------------------------------------------------------------------\n"
     ]
    }
   ],
   "source": [
    "regress session group  [aweight=n]"
   ]
  },
  {
   "cell_type": "markdown",
   "id": "9532d42b-1ef2-431c-a337-c1519f35160c",
   "metadata": {},
   "source": [
    "Now $P = 0.101$ — not significant. The mean difference is also slightly changed, $–1.41$, i.e. the mean for Group X exceeds the mean for Group Y by 1.41 sessions. This analysis is valid — it takes the data structure into account, including the variation in class size. "
   ]
  },
  {
   "cell_type": "markdown",
   "id": "26dc8deb-cf5e-4ce2-8be0-e3d00cb58e4d",
   "metadata": {},
   "source": [
    "## Analysis using robust standard errors \n",
    "\n",
    "A different approach to the analysis is to use the individual student as the unit of analysis but to adjust the standard errors for the clustering. One way to do this is the robust standard error or Huber-White-sandwich method. We can do this using the regression command: "
   ]
  },
  {
   "cell_type": "code",
   "execution_count": 9,
   "id": "6bd4cfe8-b54f-4adf-9741-0cb152f1b0fd",
   "metadata": {},
   "outputs": [
    {
     "name": "stdout",
     "output_type": "stream",
     "text": [
      "\n",
      ". cwf default\n",
      "\n",
      ". regress sessions group, robust cluster(class)\n",
      "\n",
      "Linear regression                               Number of obs     =        152\n",
      "                                                F(1, 27)          =       2.79\n",
      "                                                Prob > F          =     0.1062\n",
      "                                                R-squared         =     0.0493\n",
      "                                                Root MSE          =     3.0958\n",
      "\n",
      "                                 (Std. err. adjusted for 28 clusters in class)\n",
      "------------------------------------------------------------------------------\n",
      "             |               Robust\n",
      "    sessions | Coefficient  std. err.      t    P>|t|     [95% conf. interval]\n",
      "-------------+----------------------------------------------------------------\n",
      "       group |  -1.405226   .8407909    -1.67   0.106    -3.130387     .319934\n",
      "       _cons |   8.090941   1.535933     5.27   0.000     4.939466    11.24242\n",
      "------------------------------------------------------------------------------\n",
      "\n",
      ". \n"
     ]
    }
   ],
   "source": [
    "cwf default\n",
    "regress sessions group, robust cluster(class)"
   ]
  },
  {
   "cell_type": "markdown",
   "id": "db2a0d71-be22-4a20-98e1-28f7fcf59f7b",
   "metadata": {},
   "source": [
    "(In the Stata command, \"`robust`\" is unnecessary, as \"`cluster`\" implies it, but I have included it for clarity.) \n",
    "\n",
    "For this analysis, $P = 0.106$ — not significant, and the estimate is 1.41 in favour of Group X. The estimate is identical to the analysis using summary statistics weighted for class size, though the standard error, $P$ value, and 95% confidence interval are very slightly different.\n",
    "\n",
    "The analysis is valid — it takes the data structure into account.\n",
    "\n",
    "Why should we do this rather than the summary statistics, if we get the same answer? Because it enables us to adjust for a covariate. This might explain some of the variation in attendance and hence improve the estimate of the difference between group means: "
   ]
  },
  {
   "cell_type": "code",
   "execution_count": 10,
   "id": "3877ea24-74e5-4fb7-a857-53ae675d207e",
   "metadata": {},
   "outputs": [
    {
     "name": "stdout",
     "output_type": "stream",
     "text": [
      "\n",
      "Linear regression                               Number of obs     =        152\n",
      "                                                F(2, 27)          =      11.91\n",
      "                                                Prob > F          =     0.0002\n",
      "                                                R-squared         =     0.1956\n",
      "                                                Root MSE          =     2.8572\n",
      "\n",
      "                                 (Std. err. adjusted for 28 clusters in class)\n",
      "------------------------------------------------------------------------------\n",
      "             |               Robust\n",
      "    sessions | Coefficient  std. err.      t    P>|t|     [95% conf. interval]\n",
      "-------------+----------------------------------------------------------------\n",
      "       group |  -1.533053   .6128085    -2.50   0.019    -2.790433   -.2756742\n",
      "      midscl |   -.049151   .0104713    -4.69   0.000    -.0706363   -.0276658\n",
      "       _cons |   10.56678   1.304614     8.10   0.000     7.889936    13.24363\n",
      "------------------------------------------------------------------------------\n"
     ]
    }
   ],
   "source": [
    "regress sessions group midscl, cluster(class)"
   ]
  },
  {
   "cell_type": "markdown",
   "id": "89208ddc-ac45-4036-84d5-3bc14ba31932",
   "metadata": {},
   "source": [
    "This analysis gives $P = 0.019$ — significant.\n",
    "\n",
    "This analysis is valid — it takes the data structure into account. It was the one done by Jeremy Miles for the final analysis of the trial. The adjustment produces a true significant difference. "
   ]
  },
  {
   "cell_type": "markdown",
   "id": "9160215a-8557-4024-841b-7e3039e27ce3",
   "metadata": {},
   "source": [
    "## Adjustment when using summary statistics \n",
    "\n",
    "We could do the same regression or analysis of covariance using summary statistics. We collapse the data, as before, to give for each class the mean number of sessions attended, the intervention group, the midcourse literacy score, and the number of learners for whom we have data: "
   ]
  },
  {
   "cell_type": "code",
   "execution_count": 11,
   "id": "7335baca-00f7-4015-9024-7c92f6fabe2d",
   "metadata": {},
   "outputs": [
    {
     "name": "stdout",
     "output_type": "stream",
     "text": [
      "\n",
      ". cwf fr_collapsed\n",
      "\n",
      ". regress session group midscl [aweight=n]\n",
      "(sum of wgt is 152)\n",
      "\n",
      "      Source |       SS           df       MS      Number of obs   =        28\n",
      "-------------+----------------------------------   F(2, 25)        =     22.97\n",
      "       Model |  88.6762362         2  44.3381181   Prob > F        =    0.0000\n",
      "    Residual |   48.252853        25  1.93011412   R-squared       =    0.6476\n",
      "-------------+----------------------------------   Adj R-squared   =    0.6194\n",
      "       Total |  136.929089        27  5.07144775   Root MSE        =    1.3893\n",
      "\n",
      "------------------------------------------------------------------------------\n",
      "    sessions | Coefficient  Std. err.      t    P>|t|     [95% conf. interval]\n",
      "-------------+----------------------------------------------------------------\n",
      "       group |  -1.778653   .5301429    -3.36   0.003    -2.870503   -.6868038\n",
      "      midscl |  -.0945941    .015181    -6.23   0.000    -.1258598   -.0633283\n",
      "       _cons |   13.13811   1.175841    11.17   0.000     10.71642     15.5598\n",
      "------------------------------------------------------------------------------\n",
      "\n",
      ". \n"
     ]
    }
   ],
   "source": [
    "cwf fr_collapsed\n",
    "regress session group midscl [aweight=n]"
   ]
  },
  {
   "cell_type": "markdown",
   "id": "5c557ce1-3e72-4761-b80a-3f0bdab0c5df",
   "metadata": {},
   "source": [
    "Surprisingly, this works as well as, or even better than, the robust standard errors regression. We have a larger estimate of the difference with a smaller $P$ value ($0.003$). The literacy score is a very strong predictor: \n",
    "\n",
    "![](https://www-users.york.ac.uk/~mb55/clust/incent008.gif)"
   ]
  },
  {
   "cell_type": "markdown",
   "id": "44f8e888-dde2-4ecb-b062-8ec495c474b5",
   "metadata": {},
   "source": [
    "(The area of the diamond is proportional to the number in the class.)\n",
    "\n",
    "The summary statistics method often works very well. "
   ]
  },
  {
   "cell_type": "markdown",
   "id": "d1219f9b-1564-423f-b0a6-439cb4bc3158",
   "metadata": {},
   "source": [
    "## Finding the ICC and design effect \n",
    "\n",
    "We can find the ICC easily in Stata using the \"`loneway`\" command (long one-way analysis of variance). "
   ]
  },
  {
   "cell_type": "code",
   "execution_count": 14,
   "id": "2913113f-f6f5-4746-80ba-4dba8931325c",
   "metadata": {},
   "outputs": [
    {
     "name": "stdout",
     "output_type": "stream",
     "text": [
      "\n",
      ". cwf default\n",
      "\n",
      ". loneway sessions class\n",
      "\n",
      "     One-way analysis of variance for sessions: Sessions attended mid-post\n",
      "\n",
      "                                             Number of obs =          152\n",
      "                                                 R-squared =       0.4916\n",
      "\n",
      "    Source                SS         df      MS            F     Prob > F\n",
      "-------------------------------------------------------------------------\n",
      "Between class          743.32934     27    27.530716      4.44     0.0000\n",
      "Within class            768.8746    124    6.2006016\n",
      "-------------------------------------------------------------------------\n",
      "Total                  1512.2039    151    10.014596\n",
      "\n",
      "         Intraclass       Asy.        \n",
      "         correlation      S.E.       [95% conf. interval]\n",
      "         ------------------------------------------------\n",
      "            0.38856     0.09376       0.20480     0.57232\n",
      "\n",
      "         Estimated SD of class effect            1.985031\n",
      "         Estimated SD within class               2.490101\n",
      "         Est. reliability of a class mean         0.77478\n",
      "              (evaluated at n=5.41)\n",
      "\n",
      ". \n"
     ]
    }
   ],
   "source": [
    "cwf default\n",
    "loneway sessions class"
   ]
  },
  {
   "cell_type": "markdown",
   "id": "fe4cdc2d-0f10-4cc3-a9d8-09b277745be5",
   "metadata": {},
   "source": [
    "Hence $ICC = 0.38856 = 0.39$.\n",
    "\n",
    "The design effect for constant cluster size is\n",
    "\n",
    "$$\n",
    "1 + (m - 1)\\cdot ICC\n",
    "$$\n",
    "\n",
    "where $m$ is the cluster size. If we have varying cluster size, we replace $m$ by\n",
    "\n",
    "$$\n",
    "\\frac{\\sum m_i^2}{\\sum m_i} = \n",
    "\\frac{\\operatorname{Mean}({m_i}) + (k - 1)\\operatorname{Var}({m_i})}{k \\cdot \\operatorname{Mean}({m_i})}\n",
    "$$\n",
    "\n",
    "where $k$ is the number of clusters. We can find the mean and variance of the $m_i$ from the summary data. "
   ]
  },
  {
   "cell_type": "code",
   "execution_count": 16,
   "id": "b0a499d7-ba82-4999-a142-2aaf87dcabac",
   "metadata": {},
   "outputs": [
    {
     "name": "stdout",
     "output_type": "stream",
     "text": [
      "\n",
      ". frame fr_collapsed: summarize n\n",
      "\n",
      "    Variable |        Obs        Mean    Std. dev.       Min        Max\n",
      "-------------+---------------------------------------------------------\n",
      "           n |         28    5.428571    1.525792          2          9\n",
      "\n",
      ". display 5.428571 + (28-1)* 1.525792 ^2/( 28 * 5.428571)\n",
      "5.8421047\n",
      "\n",
      ". \n"
     ]
    }
   ],
   "source": [
    "frame fr_collapsed: summarize n\n",
    "display 5.428571 + (28-1)* 1.525792 ^2/( 28 * 5.428571)"
   ]
  },
  {
   "cell_type": "markdown",
   "id": "cf98f977-9d02-4da4-a38e-44ee82302116",
   "metadata": {},
   "source": [
    "Then we use $ICC = 0.38856$ to get the design effect: "
   ]
  },
  {
   "cell_type": "code",
   "execution_count": 18,
   "id": "72bc2d8e-c4c2-4f74-b5ce-e1feb236292f",
   "metadata": {},
   "outputs": [
    {
     "name": "stdout",
     "output_type": "stream",
     "text": [
      "2.8814482\n"
     ]
    }
   ],
   "source": [
    "display 1 + (5.8421047 - 1)*0.38856"
   ]
  },
  {
   "cell_type": "markdown",
   "id": "70f35f8b-5662-4d4e-94c5-fbe6bde0650f",
   "metadata": {},
   "source": [
    "This design effect may be too large, because the difference between the groups is included in the difference between the classes. We can find an ICC for each group: "
   ]
  },
  {
   "cell_type": "code",
   "execution_count": 19,
   "id": "2e52ed18-e4fa-49a6-ac97-e408e98c72f2",
   "metadata": {},
   "outputs": [
    {
     "name": "stdout",
     "output_type": "stream",
     "text": [
      "\n",
      ". loneway sessions class if group==1\n",
      "\n",
      "     One-way analysis of variance for sessions: Sessions attended mid-post\n",
      "\n",
      "                                             Number of obs =           70\n",
      "                                                 R-squared =       0.5984\n",
      "\n",
      "    Source                SS         df      MS            F     Prob > F\n",
      "-------------------------------------------------------------------------\n",
      "Between class          504.49524     13    38.807326      6.42     0.0000\n",
      "Within class           338.59048     56    6.0462585\n",
      "-------------------------------------------------------------------------\n",
      "Total                  843.08571     69    12.218634\n",
      "\n",
      "         Intraclass       Asy.        \n",
      "         correlation      S.E.       [95% conf. interval]\n",
      "         ------------------------------------------------\n",
      "            0.52107     0.13054       0.26522     0.77692\n",
      "\n",
      "         Estimated SD of class effect            2.564807\n",
      "         Estimated SD within class               2.458914\n",
      "         Est. reliability of a class mean         0.84420\n",
      "              (evaluated at n=4.98)\n",
      "\n",
      ". loneway sessions class if group==2\n",
      "\n",
      "     One-way analysis of variance for sessions: Sessions attended mid-post\n",
      "\n",
      "                                             Number of obs =           82\n",
      "                                                 R-squared =       0.2763\n",
      "\n",
      "    Source                SS         df      MS            F     Prob > F\n",
      "-------------------------------------------------------------------------\n",
      "Between class          164.26465     13    12.635743      2.00     0.0341\n",
      "Within class           430.28413     68    6.3277077\n",
      "-------------------------------------------------------------------------\n",
      "Total                  594.54878     81    7.3401084\n",
      "\n",
      "         Intraclass       Asy.        \n",
      "         correlation      S.E.       [95% conf. interval]\n",
      "         ------------------------------------------------\n",
      "            0.14624     0.10793       0.00000     0.35778\n",
      "\n",
      "         Estimated SD of class effect            1.041094\n",
      "         Estimated SD within class               2.515494\n",
      "         Est. reliability of a class mean         0.49922\n",
      "              (evaluated at n=5.82)\n",
      "\n",
      ". \n"
     ]
    }
   ],
   "source": [
    "loneway sessions class if group==1\n",
    "loneway sessions class if group==2"
   ]
  },
  {
   "cell_type": "markdown",
   "id": "064c7963-9d9c-464a-982c-515c2ff88bac",
   "metadata": {},
   "source": [
    "As a simple approximation, we can average these two ICCs: but the ICC is not much smaller. The design effect would be "
   ]
  },
  {
   "cell_type": "code",
   "execution_count": 21,
   "id": "e82393b1-f5fa-4a48-aae0-cb012516c68c",
   "metadata": {},
   "outputs": [
    {
     "name": "stdout",
     "output_type": "stream",
     "text": [
      "2.6155924\n"
     ]
    }
   ],
   "source": [
    "display 1 + (5.8421047 - 1)*.333655"
   ]
  },
  {
   "cell_type": "markdown",
   "id": "e7118d8a-835a-4fd5-9d4f-be75543cf473",
   "metadata": {},
   "source": [
    "giving $2.62$ compared to $2.88$. "
   ]
  },
  {
   "cell_type": "markdown",
   "id": "53962398-fd4a-4337-9a50-dc839fc37d7b",
   "metadata": {},
   "source": [
    "## Analysis using the design effect \n",
    "\n",
    "We can now multiply the standard error for our crude (invalid) $t$ test by the square root of the design effect: "
   ]
  },
  {
   "cell_type": "code",
   "execution_count": 25,
   "id": "4c96c76b-1f46-4da5-a63f-25ff7382a91e",
   "metadata": {},
   "outputs": [
    {
     "name": "stdout",
     "output_type": "stream",
     "text": [
      "\n",
      ". ttest sessions , by(group)\n",
      "\n",
      "Two-sample t test with equal variances\n",
      "------------------------------------------------------------------------------\n",
      "   Group |     Obs        Mean    Std. err.   Std. dev.   [95% conf. interval]\n",
      "---------+--------------------------------------------------------------------\n",
      " Group X |      70    6.685714    .4177941    3.495516    5.852238    7.519191\n",
      " Group Y |      82    5.280488    .2991881    2.709263    4.685197    5.875778\n",
      "---------+--------------------------------------------------------------------\n",
      "Combined |     152    5.927632    .2566817    3.164585     5.42048    6.434783\n",
      "---------+--------------------------------------------------------------------\n",
      "    diff |            1.405226    .5037841                .4097968    2.400656\n",
      "------------------------------------------------------------------------------\n",
      "    diff = mean(Group X) - mean(Group Y)                          t =   2.7893\n",
      "H0: diff = 0                                     Degrees of freedom =      150\n",
      "\n",
      "    Ha: diff < 0                 Ha: diff != 0                 Ha: diff > 0\n",
      " Pr(T < t) = 0.9970         Pr(|T| > |t|) = 0.0060          Pr(T > t) = 0.0030\n",
      "\n",
      ". display r(se) * sqrt(2.8814482)\n",
      ".8551649\n",
      "\n",
      ". \n"
     ]
    }
   ],
   "source": [
    "ttest sessions , by(group)\n",
    "display r(se) * sqrt(2.8814482)"
   ]
  },
  {
   "cell_type": "markdown",
   "id": "f9754026-5479-4c25-ae06-5bb712bf8b43",
   "metadata": {},
   "source": [
    "and hence find a new confidence interval and $P$ value. For the $P$ value: "
   ]
  },
  {
   "cell_type": "code",
   "execution_count": 30,
   "id": "17889ff3-eae5-45b5-80c6-09c2d911d5c9",
   "metadata": {},
   "outputs": [
    {
     "name": "stdout",
     "output_type": "stream",
     "text": [
      "\n",
      ". display 1.405226/.8551649\n",
      "1.6432223\n",
      "\n",
      ". display 2*ttail(152, 1.6432223)\n",
      ".10240394\n",
      "\n",
      ". \n"
     ]
    }
   ],
   "source": [
    "display 1.405226/.8551649\n",
    "display 2*ttail(152, 1.6432223)"
   ]
  },
  {
   "cell_type": "markdown",
   "id": "dca9ca01-7c3a-4e32-83e7-07be71f671ec",
   "metadata": {},
   "source": [
    "so the $P$ value, $P = 0.102$, is very similar to the $P = 0.106$ by robust regression and $P = 0.101$ by summary statistics. \n",
    "\n",
    "For the confidence interval: "
   ]
  },
  {
   "cell_type": "code",
   "execution_count": 31,
   "id": "83fc6f62-b161-488a-85dd-53dc8b6f2d89",
   "metadata": {},
   "outputs": [
    {
     "name": "stdout",
     "output_type": "stream",
     "text": [
      "\n",
      ". display invttail(150,0.975)\n",
      "-1.9759053\n",
      "\n",
      ". display 1.405226 - 1.9759053 * 0.8551649 \n",
      "-.28449886\n",
      "\n",
      ". display 1.405226 + 1.9759053 * 0.8551649 \n",
      "3.0949509\n",
      "\n",
      ". \n"
     ]
    }
   ],
   "source": [
    "display invttail(150,0.975)\n",
    "display 1.405226 - 1.9759053 * 0.8551649 \n",
    "display 1.405226 + 1.9759053 * 0.8551649 "
   ]
  },
  {
   "cell_type": "markdown",
   "id": "826f847b-ffe7-4deb-b060-1f4961b11b04",
   "metadata": {},
   "source": [
    "The 95% confidence interval is $–0.28$ to $3.09$. Compare this to $–0.32$ to $3.13$ by robust regression and $–0.23$ to $3.25$ by summary statistics. They are very similar. "
   ]
  },
  {
   "cell_type": "markdown",
   "id": "63016564-a582-47df-b38e-2e0bd5cfec43",
   "metadata": {},
   "source": [
    "## Comments \n",
    "\n",
    "This cluster randomised trial has a very large cluster effect, as measured by the $ICC = 0.39$. This produces a substantial design effect, even though the clusters are fairly small. In turn, this leads to a misleading result if we ignore the clustering.\n",
    "\n",
    "There are several ways in which we could do a valid analysis for these data and we have tried three of them: cluster summary statistics, robust standard errors, and the use of the design effect to adjust standard errors. These all gave very similar results. Even with the use of a covariate, we got similar results for robust regression and summary statistics.\n",
    "\n",
    "In this case the covariate had a fairly strong predictive power for the outcome variable and also varied between clusters much more than the variation between individuals would lead us to expect ($P<0.0001$, one way anova of literacy score by class).\n",
    "\n",
    "If anyone would like to try a multilevel or Bayesian hierarchical model on these data, I would be happy to add them to this comparison.\n",
    "\n",
    "My conclusion for the moment is that, provided a method which takes the clustering into account is used, it does not matter which we use for the analysis of these data. "
   ]
  },
  {
   "cell_type": "code",
   "execution_count": null,
   "id": "85197699-4e2c-4b0b-8c9d-55ba4e95e4a0",
   "metadata": {},
   "outputs": [],
   "source": []
  }
 ],
 "metadata": {
  "kernelspec": {
   "display_name": "Stata",
   "language": "stata",
   "name": "pystata"
  },
  "language_info": {
   "codemirror_mode": "stata",
   "file_extension": ".do",
   "mimetype": "text/x-stata",
   "name": "stata"
  }
 },
 "nbformat": 4,
 "nbformat_minor": 5
}
